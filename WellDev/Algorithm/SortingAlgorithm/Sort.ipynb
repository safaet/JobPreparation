{
 "cells": [
  {
   "cell_type": "code",
   "execution_count": 2,
   "metadata": {},
   "outputs": [],
   "source": [
    "arr = [13, 46, 24, 52, 20, 9]"
   ]
  },
  {
   "cell_type": "markdown",
   "metadata": {},
   "source": [
    "# Selection sort"
   ]
  },
  {
   "cell_type": "code",
   "execution_count": 3,
   "metadata": {},
   "outputs": [],
   "source": [
    "for i in range(len(arr)):\n",
    "    for k in range(i+1, len(arr)):\n",
    "        if arr[i] > arr[k]:\n",
    "            temp = arr[i]\n",
    "            arr[i] = arr[k]\n",
    "            arr[k] = temp"
   ]
  },
  {
   "cell_type": "code",
   "execution_count": 4,
   "metadata": {},
   "outputs": [
    {
     "data": {
      "text/plain": [
       "[9, 13, 20, 24, 46, 52]"
      ]
     },
     "execution_count": 4,
     "metadata": {},
     "output_type": "execute_result"
    }
   ],
   "source": [
    "arr"
   ]
  },
  {
   "cell_type": "markdown",
   "metadata": {},
   "source": [
    "**Time Complexity:** O(n<sup>2</sup>) <br>\n",
    "**Space Complexity:** O(1)"
   ]
  },
  {
   "cell_type": "markdown",
   "metadata": {},
   "source": [
    "# Bubble Sort"
   ]
  },
  {
   "cell_type": "code",
   "execution_count": 5,
   "metadata": {},
   "outputs": [],
   "source": [
    "arr = [64, 34, 25, 12, 22, 11, 90]"
   ]
  },
  {
   "cell_type": "code",
   "execution_count": 6,
   "metadata": {},
   "outputs": [],
   "source": [
    "def bubbleSort(arr):\n",
    "    n = len(arr)\n",
    "\n",
    "    # Traverse through all array elements\n",
    "    for i in range(n):\n",
    "        swapped = False\n",
    "\n",
    "        # Last i elements are already in place\n",
    "        for j in range(0, n-i-1):\n",
    "\n",
    "            # Travarse the array from 0 to n-i-1\n",
    "            # Swap if the element found is greater\n",
    "            # than the next element\n",
    "            if arr[j] > arr[j+1]:\n",
    "                arr[j], arr[j+1] = arr[j+1], arr[j]\n",
    "                swapped = True\n",
    "        if (swapped == False):\n",
    "            break\n"
   ]
  },
  {
   "cell_type": "code",
   "execution_count": 7,
   "metadata": {},
   "outputs": [
    {
     "name": "stdout",
     "output_type": "stream",
     "text": [
      "[64, 34, 25, 12, 22, 11, 90]\n"
     ]
    }
   ],
   "source": [
    "print(arr)"
   ]
  },
  {
   "cell_type": "markdown",
   "metadata": {},
   "source": [
    "**Time Complexity:** O(N<sup>2</sup>) <br>\n",
    "**Auxiliary Space:** O(1)"
   ]
  },
  {
   "cell_type": "markdown",
   "metadata": {},
   "source": [
    "# Insertion Sort"
   ]
  },
  {
   "cell_type": "code",
   "execution_count": 8,
   "metadata": {},
   "outputs": [],
   "source": [
    "arr = [12, 11, 13, 5, 6]"
   ]
  },
  {
   "cell_type": "code",
   "execution_count": 9,
   "metadata": {},
   "outputs": [],
   "source": [
    "def insertionSort(arr):\n",
    "\n",
    "    # Treverse through 1 to len(arr)\n",
    "    for i in range(1, len(arr)):\n",
    "\n",
    "        key = arr[i]\n",
    "\n",
    "        # Move elements of arr[0...i-1], that are \n",
    "        # greater than key, to one position ahead\n",
    "        # of their current position\n",
    "        j= i-1\n",
    "        while j >= 0 and key < arr[j]:\n",
    "            arr[j+1] = arr[j]\n",
    "            j-=1\n",
    "        arr[j+1] = key"
   ]
  },
  {
   "cell_type": "markdown",
   "metadata": {},
   "source": [
    "## Time Complexity\n",
    "- **Best case: O(n)** If the list is already sorted.\n",
    "- **Average case: O(n<sup>2</sup>)** If the list is randomly ordered\n",
    "- **Worst case: O(n<sup>2</sup>)** If the list is in reverse order\n",
    "## Space Complexity\n",
    "- **Auxiliary Space:** O(1)"
   ]
  },
  {
   "cell_type": "markdown",
   "metadata": {},
   "source": [
    "# Merge Sort"
   ]
  },
  {
   "cell_type": "code",
   "execution_count": 1,
   "metadata": {},
   "outputs": [],
   "source": [
    "# Merge two subarrays of array[].\n",
    "# First subarray is arr[left..mid]\n",
    "# Second subarray is arr[mid+1..right]\n",
    "def merge(array, left, mid, right):\n",
    "    subArrayOne = mid - left + 1\n",
    "    subArrayTwo = right -mid\n",
    "\n",
    "    # Create temp arrays\n",
    "    leftArray = [0] * subArrayOne\n",
    "    rightArray = [0] * subArrayTwo\n",
    "\n",
    "    # Copy data to temp arrays leftArray[] and rightArray[]\n",
    "    for i in range(subArrayOne):\n",
    "        leftArray[i] = array[left + i]\n",
    "    for j in range(subArrayTwo):\n",
    "        rightArray[j] = array[mid + 1+j]\n",
    "\n",
    "    indexOfSubArrayOne = 0 # Initial index of first sub-array\n",
    "    indexOfSubArrayTwo = 0 # Initial index of second sub-array\n",
    "    indexOfMergeArray = left  # Initial index of merged Array\n",
    "\n",
    "    # Merge the temp arrays back into array[left..right]\n",
    "    while indexOfSubArrayOne < subArrayOne and indexOfSubArrayTwo < subArrayTwo:\n",
    "        if leftArray[indexOfSubArrayOne] <= rightArray[indexOfSubArrayTwo]:\n",
    "            array[indexOfMergedArray] = leftArray[indexOfSubArrayOne]\n",
    "            indexOfSubArrayOne += 1\n",
    "\n",
    "        else:\n",
    "            array[indexOfMergedArray] = rightArray[indexOfSubArrayTwo]\n",
    "            indexOfSubArrayTwo += 1\n",
    "        indexOfMergedArray += 1\n",
    "\n",
    "    # Copy the remaining elements of left[], if any\n",
    "    while indexOfSubArrayOne < subArrayOne:\n",
    "        array[indexOfMergedArray] = leftArray[indexOfSubArrayOne]\n",
    "        indexOfSubArrayOne += 1\n",
    "        indexOfMergedArray += 1\n",
    "\n",
    "    # Copy the remaining elements of right[], if any\n",
    "    while indexOfSubArrayTwo < subArrayTwo:\n",
    "        array[indexOfMergedArray] = rightArray[indexOfSubArrayTwo]\n",
    "        indexOfSubArrayTwo += 1\n",
    "        indexOfMergedArray += 1\n"
   ]
  },
  {
   "cell_type": "code",
   "execution_count": 2,
   "metadata": {},
   "outputs": [],
   "source": [
    "# begin is for left index and end is right index\n",
    "# of the sub-array of arr to be sorted\n",
    "def mergeSort(array, begin, end):\n",
    "    if begin >= end:\n",
    "        return\n",
    "\n",
    "    mid = begin + (end - begin) // 2\n",
    "    mergeSort(array, begin, mid)\n",
    "    mergeSort(array, mid+1, end)\n",
    "    merge(array, begin, mid, end)"
   ]
  },
  {
   "cell_type": "code",
   "execution_count": 5,
   "metadata": {
    "scrolled": true
   },
   "outputs": [
    {
     "ename": "UnboundLocalError",
     "evalue": "cannot access local variable 'indexOfMergedArray' where it is not associated with a value",
     "output_type": "error",
     "traceback": [
      "\u001b[0;31m---------------------------------------------------------------------------\u001b[0m",
      "\u001b[0;31mUnboundLocalError\u001b[0m                         Traceback (most recent call last)",
      "Cell \u001b[0;32mIn[5], line 3\u001b[0m\n\u001b[1;32m      1\u001b[0m arr \u001b[38;5;241m=\u001b[39m [\u001b[38;5;241m12\u001b[39m, \u001b[38;5;241m11\u001b[39m, \u001b[38;5;241m13\u001b[39m, \u001b[38;5;241m5\u001b[39m, \u001b[38;5;241m4\u001b[39m]\n\u001b[1;32m      2\u001b[0m n \u001b[38;5;241m=\u001b[39m \u001b[38;5;28mlen\u001b[39m(arr)\n\u001b[0;32m----> 3\u001b[0m \u001b[43mmergeSort\u001b[49m\u001b[43m(\u001b[49m\u001b[43marr\u001b[49m\u001b[43m,\u001b[49m\u001b[43m \u001b[49m\u001b[38;5;241;43m0\u001b[39;49m\u001b[43m,\u001b[49m\u001b[43m \u001b[49m\u001b[43mn\u001b[49m\u001b[38;5;241;43m-\u001b[39;49m\u001b[38;5;241;43m1\u001b[39;49m\u001b[43m)\u001b[49m\n",
      "Cell \u001b[0;32mIn[2], line 8\u001b[0m, in \u001b[0;36mmergeSort\u001b[0;34m(array, begin, end)\u001b[0m\n\u001b[1;32m      5\u001b[0m     \u001b[38;5;28;01mreturn\u001b[39;00m\n\u001b[1;32m      7\u001b[0m mid \u001b[38;5;241m=\u001b[39m begin \u001b[38;5;241m+\u001b[39m (end \u001b[38;5;241m-\u001b[39m begin) \u001b[38;5;241m/\u001b[39m\u001b[38;5;241m/\u001b[39m \u001b[38;5;241m2\u001b[39m\n\u001b[0;32m----> 8\u001b[0m \u001b[43mmergeSort\u001b[49m\u001b[43m(\u001b[49m\u001b[43marray\u001b[49m\u001b[43m,\u001b[49m\u001b[43m \u001b[49m\u001b[43mbegin\u001b[49m\u001b[43m,\u001b[49m\u001b[43m \u001b[49m\u001b[43mmid\u001b[49m\u001b[43m)\u001b[49m\n\u001b[1;32m      9\u001b[0m mergeSort(array, mid\u001b[38;5;241m+\u001b[39m\u001b[38;5;241m1\u001b[39m, end)\n\u001b[1;32m     10\u001b[0m merge(array, begin, mid, end)\n",
      "Cell \u001b[0;32mIn[2], line 8\u001b[0m, in \u001b[0;36mmergeSort\u001b[0;34m(array, begin, end)\u001b[0m\n\u001b[1;32m      5\u001b[0m     \u001b[38;5;28;01mreturn\u001b[39;00m\n\u001b[1;32m      7\u001b[0m mid \u001b[38;5;241m=\u001b[39m begin \u001b[38;5;241m+\u001b[39m (end \u001b[38;5;241m-\u001b[39m begin) \u001b[38;5;241m/\u001b[39m\u001b[38;5;241m/\u001b[39m \u001b[38;5;241m2\u001b[39m\n\u001b[0;32m----> 8\u001b[0m \u001b[43mmergeSort\u001b[49m\u001b[43m(\u001b[49m\u001b[43marray\u001b[49m\u001b[43m,\u001b[49m\u001b[43m \u001b[49m\u001b[43mbegin\u001b[49m\u001b[43m,\u001b[49m\u001b[43m \u001b[49m\u001b[43mmid\u001b[49m\u001b[43m)\u001b[49m\n\u001b[1;32m      9\u001b[0m mergeSort(array, mid\u001b[38;5;241m+\u001b[39m\u001b[38;5;241m1\u001b[39m, end)\n\u001b[1;32m     10\u001b[0m merge(array, begin, mid, end)\n",
      "Cell \u001b[0;32mIn[2], line 10\u001b[0m, in \u001b[0;36mmergeSort\u001b[0;34m(array, begin, end)\u001b[0m\n\u001b[1;32m      8\u001b[0m mergeSort(array, begin, mid)\n\u001b[1;32m      9\u001b[0m mergeSort(array, mid\u001b[38;5;241m+\u001b[39m\u001b[38;5;241m1\u001b[39m, end)\n\u001b[0;32m---> 10\u001b[0m \u001b[43mmerge\u001b[49m\u001b[43m(\u001b[49m\u001b[43marray\u001b[49m\u001b[43m,\u001b[49m\u001b[43m \u001b[49m\u001b[43mbegin\u001b[49m\u001b[43m,\u001b[49m\u001b[43m \u001b[49m\u001b[43mmid\u001b[49m\u001b[43m,\u001b[49m\u001b[43m \u001b[49m\u001b[43mend\u001b[49m\u001b[43m)\u001b[49m\n",
      "Cell \u001b[0;32mIn[1], line 29\u001b[0m, in \u001b[0;36mmerge\u001b[0;34m(array, left, mid, right)\u001b[0m\n\u001b[1;32m     26\u001b[0m     indexOfSubArrayOne \u001b[38;5;241m+\u001b[39m\u001b[38;5;241m=\u001b[39m \u001b[38;5;241m1\u001b[39m\n\u001b[1;32m     28\u001b[0m \u001b[38;5;28;01melse\u001b[39;00m:\n\u001b[0;32m---> 29\u001b[0m     array[\u001b[43mindexOfMergedArray\u001b[49m] \u001b[38;5;241m=\u001b[39m rightArray[indexOfSubArrayTwo]\n\u001b[1;32m     30\u001b[0m     indexOfSubArrayTwo \u001b[38;5;241m+\u001b[39m\u001b[38;5;241m=\u001b[39m \u001b[38;5;241m1\u001b[39m\n\u001b[1;32m     31\u001b[0m indexOfMergedArray \u001b[38;5;241m+\u001b[39m\u001b[38;5;241m=\u001b[39m \u001b[38;5;241m1\u001b[39m\n",
      "\u001b[0;31mUnboundLocalError\u001b[0m: cannot access local variable 'indexOfMergedArray' where it is not associated with a value"
     ]
    }
   ],
   "source": [
    "arr = [12, 11, 13, 5, 4]\n",
    "n = len(arr)\n",
    "mergeSort(arr, 0, n-1)"
   ]
  },
  {
   "cell_type": "code",
   "execution_count": null,
   "metadata": {},
   "outputs": [],
   "source": []
  }
 ],
 "metadata": {
  "kernelspec": {
   "display_name": "Python 3 (ipykernel)",
   "language": "python",
   "name": "python3"
  },
  "language_info": {
   "codemirror_mode": {
    "name": "ipython",
    "version": 3
   },
   "file_extension": ".py",
   "mimetype": "text/x-python",
   "name": "python",
   "nbconvert_exporter": "python",
   "pygments_lexer": "ipython3",
   "version": "3.11.6"
  }
 },
 "nbformat": 4,
 "nbformat_minor": 4
}
