{
 "cells": [
  {
   "cell_type": "markdown",
   "id": "cbe5c2a5-c97c-4a87-a4fa-c38a5903bf18",
   "metadata": {},
   "source": [
    "# A Sliding window\n",
    "\n",
    "Like two pointers, sliding windows work the same with arrays and strings - the important thing is that they're iterables with ordered elements. For the sake of brevity, the first part of this article up until the examples will be focusing on arrays. However, all the logic is identical for strings.\n",
    "\n",
    "\n",
    "Sliding window is another common approach to solving problems related to arrays. A sliding window is actually implemented using two pointers! Before we start, we need to talk about the concept of a subarray."
   ]
  },
  {
   "cell_type": "markdown",
   "id": "89f59cb7-34cc-428b-9fb5-7804ecaab65b",
   "metadata": {},
   "source": [
    "## Subarrays\n",
    "Given an array, a **subarray** is a contigous sectio of the array. All the elements must be adjacent to each other in the original array and in their original order. For example, with the array `[1, 2, 3, 4]`, the subarrays (grouped by length) are:\n",
    "\n",
    "- `[1]`,`[2]`,`[3]`,`[4]`\n",
    "- `[1,2]`,`[2,3]`,`[3,4]`\n",
    "- `[1, 2, 3]`,`[2, 3, 4]`\n",
    "\n",
    "**A subarray can be defined by two indices, the start and end.** For example, with `[1, 2, 3, 4]`, the subarray `[2, 3]` has a starting index of `1` and an ending index of `2`. Let's call the starting index the left bound and the ending index the right bound. Another name for subarray in this context is \"window\"."
   ]
  },
  {
   "cell_type": "markdown",
   "id": "97d1994c-f972-4bf3-84f6-43b9eaebf454",
   "metadata": {},
   "source": [
    "## When should we use sliding window?\n",
    "There is a very common group of problems involving subarrays that can be solved efficiently with sliding window. Let's talk about how to identify these problems.\n",
    "\n",
    "First, the problem will either explicitly or implicitly define criteria that make a subarray \"valid\". There are 2 components regarding what makes a subarray valid:\n",
    "\n",
    "1. A constraint metric. This is some attribute of a subarray. It could be the sum, the number of unique elements, the frequency of a specific element, or any other attribute.\n",
    "2. A numeric restriction on the constraint metric. This is what the constraint metric should be for a subarray to be considered valid.\n",
    "\n",
    "For example, let's say a problem declares a subarray is valid if it has a sum less than or equal to `10`. The constraint metric here is the sum of the subarray, and the numeric restriction is `<= 10`. A subarray is considered valid if its constraint metric conforms to the numeric restriction, i.e. the sum is less than or equal to `10`.\n",
    "\n",
    "**Second**, the problem will ask you to find valid subarrays in some way.\n",
    "\n",
    "The most common task you will see is finding the **best** valid subarray. The problem will define what makes a subarray **better** than another. For example, a problem might ask you to find the **longest** valid subarray.\n",
    "\n",
    "Another common task is finding the number of valid subarrays. We will take a look at this later in the article\n",
    "\n",
    "```bash\n",
    "Whenever a problem description talks about subarrays, you should figure out if sliding window is a good option by analyzing the problem description. If you can find the things mentioned above, then it's a good bet.\n",
    "```\n",
    "\n",
    "Here is a preview of some of the example problems that we will look at in this article, to help you better understand what sliding window problems look like:\n",
    "\n",
    "- Find the longest subarray with a sum less than or equal to `k`\n",
    "- Find the longest substring that has at most one `\"0\"`\n",
    "- Find the number of subarrays that have a product less than `k`"
   ]
  },
  {
   "cell_type": "markdown",
   "id": "d6774088-3f9e-4eaa-88d0-71588191f08c",
   "metadata": {},
   "source": [
    "## Implementation"
   ]
  },
  {
   "cell_type": "markdown",
   "id": "d819d03f-bd03-4fd3-80fe-cc58ed244901",
   "metadata": {},
   "source": [
    "Let's say that we are given a positive integer array nums and an integer k. We need to find the longest subarray that has a  sum less than or equal k. For this example, let `nums = [3, 2, 1, 3, 1, 1]` and `k = 5`"
   ]
  },
  {
   "cell_type": "code",
   "execution_count": 1,
   "id": "1f6b0eba-4d8a-410d-8e68-f507270ccd02",
   "metadata": {},
   "outputs": [],
   "source": [
    "def find_length(nums, k):\n",
    "    # curr is the current sum of the window\n",
    "    left = curr = ans = 0\n",
    "    for right in range(len(nums)):\n",
    "        curr += nums[right]\n",
    "        while curr > k:\n",
    "            curr -= nums[left]\n",
    "            left += 1\n",
    "        ans = max(ans, right-left+1)\n",
    "    return ans"
   ]
  },
  {
   "cell_type": "code",
   "execution_count": 2,
   "id": "6d08ac6d-3ed5-458a-ad46-ada7dfab37e3",
   "metadata": {},
   "outputs": [
    {
     "name": "stdout",
     "output_type": "stream",
     "text": [
      "4\n"
     ]
    }
   ],
   "source": [
    "nums = [3, 1, 2, 7, 4, 2, 1, 1, 5]\n",
    "print(find_length(nums, 8))"
   ]
  },
  {
   "cell_type": "markdown",
   "id": "a9884fe4-ab7d-4302-afd7-c3102743f6a4",
   "metadata": {},
   "source": [
    "**Example 2:** You are given a binary string s (a string containing only \"0\" and \"1\"). You may choose up to one \"0\" and flip it to a \"1\". What is the length of the longest substring achievable that contains only \"1\"?\n",
    "\n",
    "**For example**, given s = \"1101100111\", the answer is 5. if you perform the flip at index 2, the string becomes 1111100111."
   ]
  },
  {
   "cell_type": "markdown",
   "id": "864d197f-e5f5-4f35-b4ff-88aac607ff74",
   "metadata": {},
   "source": [
    "# Number of subarrays"
   ]
  },
  {
   "cell_type": "code",
   "execution_count": 4,
   "id": "e957e26d-a340-41f6-a452-3f24b2f7ad43",
   "metadata": {},
   "outputs": [],
   "source": [
    "def find_length(s):\n",
    "    # curr is the current number of zeros in the window\n",
    "    left = curr = ans = 0\n",
    "    for right in range(len(s)):\n",
    "        if s[right] == '0':\n",
    "            curr += 1\n",
    "        while curr > 1:\n",
    "            if s[left] == '0':\n",
    "                curr -= 1\n",
    "            left += 1\n",
    "        ans = max(ans, right-left+1)\n",
    "    return ans\n",
    "        "
   ]
  },
  {
   "cell_type": "code",
   "execution_count": 5,
   "id": "85de619a-2e72-489e-b8da-80f485974e46",
   "metadata": {},
   "outputs": [
    {
     "name": "stdout",
     "output_type": "stream",
     "text": [
      "5\n"
     ]
    }
   ],
   "source": [
    "s = \"1101100111\"\n",
    "print(find_length(s))"
   ]
  },
  {
   "cell_type": "markdown",
   "id": "08c83a80-5a39-4198-ad30-466d6cdb285c",
   "metadata": {},
   "source": [
    "# Fixed window size"
   ]
  },
  {
   "cell_type": "code",
   "execution_count": null,
   "id": "403f0df1-763f-4939-b614-e5bb25d71ca0",
   "metadata": {},
   "outputs": [],
   "source": []
  },
  {
   "cell_type": "markdown",
   "id": "8387a590-9fbd-4075-a3e5-ffdf1a76fe77",
   "metadata": {},
   "source": [
    "<h1><a href=\"https://leetcode.com/explore/interview/card/leetcodes-interview-crash-course-data-structures-and-algorithms/703/arraystrings/4502/\" target=\"_blank\">Referrence</a></h1>\n"
   ]
  },
  {
   "cell_type": "code",
   "execution_count": null,
   "id": "114774f8-b892-43a9-8b17-7b6ee5129527",
   "metadata": {},
   "outputs": [],
   "source": []
  }
 ],
 "metadata": {
  "kernelspec": {
   "display_name": "Python 3 (ipykernel)",
   "language": "python",
   "name": "python3"
  },
  "language_info": {
   "codemirror_mode": {
    "name": "ipython",
    "version": 3
   },
   "file_extension": ".py",
   "mimetype": "text/x-python",
   "name": "python",
   "nbconvert_exporter": "python",
   "pygments_lexer": "ipython3",
   "version": "3.11.6"
  }
 },
 "nbformat": 4,
 "nbformat_minor": 5
}
