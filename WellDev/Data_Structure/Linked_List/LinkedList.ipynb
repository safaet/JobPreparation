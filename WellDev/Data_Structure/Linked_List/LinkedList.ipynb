{
 "cells": [
  {
   "cell_type": "markdown",
   "id": "f3f9155b-755d-48f6-b983-c6aacc626dde",
   "metadata": {},
   "source": [
    "# Linked List"
   ]
  },
  {
   "cell_type": "markdown",
   "id": "0c6276fa-eaf6-4598-a6cc-560d5cc1912d",
   "metadata": {},
   "source": [
    "## Node"
   ]
  },
  {
   "cell_type": "code",
   "execution_count": 1,
   "id": "db68ad3b-4524-4712-b817-b68d94dafad0",
   "metadata": {},
   "outputs": [],
   "source": [
    "class Node:\n",
    "\n",
    "    def __init__(self, value, next_node=None):\n",
    "        self._value = value\n",
    "        self._next = next_node\n",
    "\n",
    "    @property\n",
    "    def value(self):\n",
    "        return self._value\n",
    "\n",
    "    @value.setter\n",
    "    def value(self, new_value):\n",
    "        self._value = new_value\n",
    "\n",
    "    @property\n",
    "    def next(self):\n",
    "        return self._next\n",
    "\n",
    "    @next.setter\n",
    "    def next(self, new_next):\n",
    "        self._next = new_next"
   ]
  },
  {
   "cell_type": "code",
   "execution_count": 2,
   "id": "3c40d9b6-c6d0-4759-bf23-7ef3a39a0709",
   "metadata": {},
   "outputs": [],
   "source": [
    "class LinkedList:\n",
    "\n",
    "    def __init__(self):\n",
    "        self.head = None\n",
    "\n",
    "    def insert_node(self, value):\n",
    "        new_node = Node(value)\n",
    "\n",
    "        if self.head is None:\n",
    "            self.head = new_node\n",
    "        elif value <= self.head.value:\n",
    "            new_node.next = self.head\n",
    "            self.head = new_node\n",
    "        else:\n",
    "            previous = self.head\n",
    "            runner = self.head.next\n",
    "\n",
    "            while (runner is not None) and (value > runner.value):\n",
    "                previous = runner\n",
    "                runner = runner.next\n",
    "\n",
    "            new_node.next = runner\n",
    "            previous.next = new_node\n",
    "\n",
    "\n",
    "    def print_list_items(self):\n",
    "        if self.head is None:\n",
    "            print(\"Empty\")\n",
    "        else:\n",
    "            runner = self.head\n",
    "            while runner is not None:\n",
    "                print(runner.value, end=\" \")\n",
    "                runner = runner.next\n",
    "\n",
    "            print()\n",
    "\n",
    "\n",
    "\n",
    "\n",
    "\n",
    "\n",
    "\n",
    "\n",
    "\n",
    "\n",
    "\n",
    "\n",
    "\n",
    "\n",
    "\n",
    "\n",
    "\n",
    "\n",
    "\n",
    "\n",
    "\n",
    "\n",
    "\n",
    "\n",
    "\n",
    "\n",
    "\n",
    "\n",
    "\n",
    "\n",
    "\n",
    "\n",
    "        "
   ]
  },
  {
   "cell_type": "markdown",
   "id": "2d655822-0cb7-42c2-b238-d0494df1803c",
   "metadata": {},
   "source": [
    "## Array Vs Linked List\n",
    "\n",
    "|                    Array                     |                Linked List                         |\n",
    "|----------------------------------------------|----------------------------------------------------|\n",
    "|  Arrays are stored in contiguous location    |  Linked Lists are not stored in contiguous location|\n",
    "|  Fixed size                                  |  Dynamic Size                                       |\n",
    "|  Memory is allocated at compile time         |  Memory is allocated at run time.                  |\n",
    "|  Uses less memory than Linked Llists         |  Uses more memory than Arrays as it stores both data and address of next node|\n",
    "|  Elements can accessed easily in O(1) time   |  Elements can be access by traversing through all the nodes till we reach the required node|  \n",
    "| Insertion and deletion operation is <br> slower than Llinked List |  Insertion and deletion operation is faster than Array|"
   ]
  },
  {
   "cell_type": "markdown",
   "id": "db2071bb-0c4c-4bdf-9b7a-e7a32c801ff0",
   "metadata": {},
   "source": [
    "## Time Complexity Analysis of Linked List and Array\n",
    "\n",
    "<div align=\"left\">\n",
    "\n",
    "|     Operation                               |  Linked List   |   Array   |\n",
    "|---------------------------------------------|----------------|-----------|\n",
    "| Random Access                               |  O(N)          |  O(1)     |\n",
    "| Insertion and deletion at beginning         | O(1)           | O(N)      |\n",
    "| Insertion and deletion at end               | O(N)           | O(1)      |\n",
    "| Insertion and deletion at a random position | O(N)           | O(N)      |\n",
    "\n",
    "\n",
    "</div>\n"
   ]
  },
  {
   "cell_type": "markdown",
   "id": "45ddfb4a-0224-4a3d-91c6-3b9a2752f3e3",
   "metadata": {},
   "source": [
    "## Advantages of Linked List:\n",
    "- **Dynamic nature:** Linked lists are used for dynamic memory allocation.\n",
    "- **Memory efficient:** Memory consumption of a linked list is efficient as its size can grow or shrink dynamically according to our requirements, which means effective memory utilization hence, no memory wastage.\n",
    "- **Ease of Insertion and Deletion:** Insertion and deletion of nodes are easily implemented in a linked list at any position.\n",
    "- **Implementation:** For the implementation of stacks and queues and for the representation of trees and graphs.\n",
    "- **The Linked List can be expanded in constant time.**"
   ]
  },
  {
   "cell_type": "markdown",
   "id": "b173b7d6-2d92-42e1-b729-44a59375b7e6",
   "metadata": {},
   "source": [
    "# Resources:\n",
    "1. [Geeks For Geeks][1]\n",
    "2. [Resource 1](https://www.geeksforgeeks.org/python-library-for-linked-list/)\n",
    "3. [Resource 2](https://www.geeksforgeeks.org/linked-list-using-dstructure-library-in-python/)\n",
    "\n",
    "[1]:https://www.geeksforgeeks.org/introduction-to-linked-list-data-structure/#linked-list-vs-array"
   ]
  },
  {
   "cell_type": "code",
   "execution_count": null,
   "id": "ba5e1a84-a7f2-4a95-b8d0-ed6dcabebd60",
   "metadata": {},
   "outputs": [],
   "source": []
  }
 ],
 "metadata": {
  "kernelspec": {
   "display_name": "Python 3 (ipykernel)",
   "language": "python",
   "name": "python3"
  },
  "language_info": {
   "codemirror_mode": {
    "name": "ipython",
    "version": 3
   },
   "file_extension": ".py",
   "mimetype": "text/x-python",
   "name": "python",
   "nbconvert_exporter": "python",
   "pygments_lexer": "ipython3",
   "version": "3.11.6"
  }
 },
 "nbformat": 4,
 "nbformat_minor": 5
}
